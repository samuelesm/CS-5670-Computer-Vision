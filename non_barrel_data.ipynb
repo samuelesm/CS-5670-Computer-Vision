{
  "nbformat": 4,
  "nbformat_minor": 0,
  "metadata": {
    "colab": {
      "name": "non_barrel_data.ipynb",
      "provenance": [],
      "collapsed_sections": [],
      "machine_shape": "hm"
    },
    "kernelspec": {
      "name": "python3",
      "display_name": "Python 3"
    }
  },
  "cells": [
    {
      "cell_type": "code",
      "metadata": {
        "id": "JVjMZdJqkWpg",
        "colab_type": "code",
        "colab": {
          "base_uri": "https://localhost:8080/",
          "height": 52
        },
        "outputId": "dd34bf68-a5d7-4520-f60b-d0559d174c19"
      },
      "source": [
        "from google.colab import drive\n",
        "drive.mount('/gdrive')\n",
        "%cd '/gdrive/My Drive/Colab Notebooks/'"
      ],
      "execution_count": 4,
      "outputs": [
        {
          "output_type": "stream",
          "text": [
            "Drive already mounted at /gdrive; to attempt to forcibly remount, call drive.mount(\"/gdrive\", force_remount=True).\n",
            "/gdrive/My Drive/Colab Notebooks\n"
          ],
          "name": "stdout"
        }
      ]
    },
    {
      "cell_type": "code",
      "metadata": {
        "id": "_HVSgykTkjS2",
        "colab_type": "code",
        "colab": {}
      },
      "source": [
        "import os\n",
        "import numpy as np\n",
        "import matplotlib.image as mpimg\n",
        "import pandas as pd\n",
        "import csv\n",
        "from PIL import Image"
      ],
      "execution_count": 0,
      "outputs": []
    },
    {
      "cell_type": "code",
      "metadata": {
        "id": "tbJDVP6XkmsS",
        "colab_type": "code",
        "colab": {}
      },
      "source": [
        "from numpy import genfromtxt\n",
        "n_barrel_rgb = genfromtxt('data/hw1_class_rest.csv', delimiter=',')"
      ],
      "execution_count": 0,
      "outputs": []
    },
    {
      "cell_type": "code",
      "metadata": {
        "id": "gte2NTwMkrE0",
        "colab_type": "code",
        "colab": {
          "base_uri": "https://localhost:8080/",
          "height": 35
        },
        "outputId": "20c90559-2cac-4fb9-d8d7-e4bfc61df695"
      },
      "source": [
        "n_barrel_rgb = n_barrel_rgb[1:]\n",
        "num_nbar_pix = np.shape(n_barrel_rgb)\n",
        "num_nbar_pix = np.array([num_nbar_pix[0], 0, 0])\n",
        "print(num_nbar_pix)"
      ],
      "execution_count": 8,
      "outputs": [
        {
          "output_type": "stream",
          "text": [
            "[5390813       0       0]\n"
          ],
          "name": "stdout"
        }
      ]
    },
    {
      "cell_type": "code",
      "metadata": {
        "id": "mqiMybppk6E_",
        "colab_type": "code",
        "colab": {
          "base_uri": "https://localhost:8080/",
          "height": 52
        },
        "outputId": "01990c83-bb82-47ab-f581-560ad200a7d2"
      },
      "source": [
        "sum_rgb_nbar = np.sum(n_barrel_rgb, axis=0) # get sum of all barrel pixels across all images\n",
        "mean_rgb_nbar = sum_rgb_nbar / num_nbar_pix[0] # get mean of all barrel pixels across all images\n",
        "print(sum_rgb_nbar)\n",
        "print(mean_rgb_nbar)"
      ],
      "execution_count": 9,
      "outputs": [
        {
          "output_type": "stream",
          "text": [
            "[6.58759661e+08 6.29953966e+08 5.82523836e+08]\n",
            "[122.20042895 116.85695015 108.05862418]\n"
          ],
          "name": "stdout"
        }
      ]
    },
    {
      "cell_type": "code",
      "metadata": {
        "id": "UNPQZLCIlO_a",
        "colab_type": "code",
        "colab": {
          "base_uri": "https://localhost:8080/",
          "height": 69
        },
        "outputId": "258f7aa5-27ba-4f54-cc3c-ebaf3f10254a"
      },
      "source": [
        "mean_rgb_nbar = mean_rgb_nbar.reshape(1, 3)\n",
        "\n",
        "b = np.ones((num_nbar_pix[0], 1))\n",
        "\n",
        "b = np.matmul(b, mean_rgb_nbar)\n",
        "\n",
        "a = n_barrel_rgb - b\n",
        "aT = np.transpose(a)\n",
        "\n",
        "cov = np.matmul(aT, a)\n",
        "cov = cov / num_nbar_pix[0]\n",
        "\n",
        "print(cov)"
      ],
      "execution_count": 10,
      "outputs": [
        {
          "output_type": "stream",
          "text": [
            "[[4560.34098169 4155.15694364 3848.51263196]\n",
            " [4155.15694364 4335.58154241 4056.04520827]\n",
            " [3848.51263196 4056.04520827 4017.34476096]]\n"
          ],
          "name": "stdout"
        }
      ]
    },
    {
      "cell_type": "code",
      "metadata": {
        "id": "xisRECStoeuI",
        "colab_type": "code",
        "colab": {
          "base_uri": "https://localhost:8080/",
          "height": 208
        },
        "outputId": "aeda0b7a-0bbc-41b8-8df8-c3143b4bdbdc"
      },
      "source": [
        "sum_rgb_nbar = sum_rgb_nbar.reshape(1, 3)\n",
        "mean_rgb_nbar = mean_rgb_nbar.reshape(1, 3)\n",
        "num_nbar_pix = num_nbar_pix.reshape(1, 3)\n",
        "\n",
        "print(sum_rgb_nbar)\n",
        "print(mean_rgb_nbar)\n",
        "\n",
        "data1 = np.concatenate((sum_rgb_nbar, mean_rgb_nbar, num_nbar_pix), axis=0)\n",
        "print(data1)\n",
        "\n",
        "output = np.concatenate((cov, data1), axis=0)\n",
        "\n",
        "print(output)"
      ],
      "execution_count": 11,
      "outputs": [
        {
          "output_type": "stream",
          "text": [
            "[[6.58759661e+08 6.29953966e+08 5.82523836e+08]]\n",
            "[[122.20042895 116.85695015 108.05862418]]\n",
            "[[6.58759661e+08 6.29953966e+08 5.82523836e+08]\n",
            " [1.22200429e+02 1.16856950e+02 1.08058624e+02]\n",
            " [5.39081300e+06 0.00000000e+00 0.00000000e+00]]\n",
            "[[4.56034098e+03 4.15515694e+03 3.84851263e+03]\n",
            " [4.15515694e+03 4.33558154e+03 4.05604521e+03]\n",
            " [3.84851263e+03 4.05604521e+03 4.01734476e+03]\n",
            " [6.58759661e+08 6.29953966e+08 5.82523836e+08]\n",
            " [1.22200429e+02 1.16856950e+02 1.08058624e+02]\n",
            " [5.39081300e+06 0.00000000e+00 0.00000000e+00]]\n"
          ],
          "name": "stdout"
        }
      ]
    },
    {
      "cell_type": "code",
      "metadata": {
        "id": "sJTEyr5Eqkan",
        "colab_type": "code",
        "colab": {}
      },
      "source": [
        "b = open('data/non_barrel_data.csv', 'w')\n",
        "a = csv.writer(b)\n",
        "a.writerows(output)\n",
        "b.close()"
      ],
      "execution_count": 0,
      "outputs": []
    }
  ]
}