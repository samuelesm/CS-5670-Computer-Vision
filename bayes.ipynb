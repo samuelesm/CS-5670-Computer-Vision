{
  "nbformat": 4,
  "nbformat_minor": 0,
  "metadata": {
    "colab": {
      "name": "bayes.ipynb",
      "provenance": [],
      "collapsed_sections": [],
      "machine_shape": "hm"
    },
    "kernelspec": {
      "name": "python3",
      "display_name": "Python 3"
    }
  },
  "cells": [
    {
      "cell_type": "code",
      "metadata": {
        "id": "eg5L5w1-2oNU",
        "colab_type": "code",
        "colab": {
          "base_uri": "https://localhost:8080/",
          "height": 52
        },
        "outputId": "25f44162-c26b-4096-d137-97660d9afe79"
      },
      "source": [
        "from google.colab import drive\n",
        "drive.mount('/gdrive')\n",
        "%cd '/gdrive/My Drive/Colab Notebooks/'"
      ],
      "execution_count": 49,
      "outputs": [
        {
          "output_type": "stream",
          "text": [
            "Drive already mounted at /gdrive; to attempt to forcibly remount, call drive.mount(\"/gdrive\", force_remount=True).\n",
            "/gdrive/My Drive/Colab Notebooks\n"
          ],
          "name": "stdout"
        }
      ]
    },
    {
      "cell_type": "code",
      "metadata": {
        "id": "46cb-O4_3Fl3",
        "colab_type": "code",
        "colab": {}
      },
      "source": [
        "import os\n",
        "import numpy as np\n",
        "import matplotlib.image as mpimg\n",
        "import pandas as pd\n",
        "import csv\n",
        "from PIL import Image\n",
        "from numpy import linalg as LA\n",
        "import math\n",
        "from numpy import genfromtxt\n",
        "import matplotlib.pyplot as plt"
      ],
      "execution_count": 0,
      "outputs": []
    },
    {
      "cell_type": "code",
      "metadata": {
        "colab_type": "code",
        "id": "pmrJR2gytM2I",
        "colab": {
          "base_uri": "https://localhost:8080/",
          "height": 225
        },
        "outputId": "df58085e-bd15-464e-f511-b620f7d30694"
      },
      "source": [
        "# Open csv file for cov matrix, sum of rgb values, and their means calculated externally\n",
        "n_barrel_rgb = genfromtxt('data/non_barrel_data.csv', delimiter=',')\n",
        "print(n_barrel_rgb)\n",
        "cov_nbar = n_barrel_rgb[0:3]\n",
        "sum_nbar = n_barrel_rgb[3]\n",
        "mean_nbar = n_barrel_rgb[4]\n",
        "num_nbar_pix = n_barrel_rgb[5][0] # total number of not barrel pixels across all images\n",
        "num_nbar_pix = int(num_nbar_pix)\n",
        "\n",
        "print(cov_nbar)\n",
        "print(sum_nbar)\n",
        "print(mean_nbar)\n",
        "print(num_nbar_pix)"
      ],
      "execution_count": 51,
      "outputs": [
        {
          "output_type": "stream",
          "text": [
            "[[4.56034098e+03 4.15515694e+03 3.84851263e+03]\n",
            " [4.15515694e+03 4.33558154e+03 4.05604521e+03]\n",
            " [3.84851263e+03 4.05604521e+03 4.01734476e+03]\n",
            " [6.58759661e+08 6.29953966e+08 5.82523836e+08]\n",
            " [1.22200429e+02 1.16856950e+02 1.08058624e+02]\n",
            " [5.39081300e+06 0.00000000e+00 0.00000000e+00]]\n",
            "[[4560.34098169 4155.15694364 3848.51263196]\n",
            " [4155.15694364 4335.58154241 4056.04520827]\n",
            " [3848.51263196 4056.04520827 4017.34476096]]\n",
            "[6.58759661e+08 6.29953966e+08 5.82523836e+08]\n",
            "[122.20042895 116.85695015 108.05862418]\n",
            "5390813\n"
          ],
          "name": "stdout"
        }
      ]
    },
    {
      "cell_type": "code",
      "metadata": {
        "id": "2n6EIr-2_lha",
        "colab_type": "code",
        "colab": {}
      },
      "source": [
        "barrel_rgb = genfromtxt('data/hw1_class_Red_Barrel.csv', delimiter=',')"
      ],
      "execution_count": 0,
      "outputs": []
    },
    {
      "cell_type": "code",
      "metadata": {
        "id": "dwH9yn6V_yiO",
        "colab_type": "code",
        "colab": {
          "base_uri": "https://localhost:8080/",
          "height": 52
        },
        "outputId": "84c842c1-97e1-4c49-c582-49d7e61218df"
      },
      "source": [
        "# barrel_rgb = barrel_rgb[1:]\n",
        "bar_len = np.shape(barrel_rgb)\n",
        "bar_len = bar_len[0]\n",
        "print(np.shape(barrel_rgb))\n",
        "print(bar_len)"
      ],
      "execution_count": 44,
      "outputs": [
        {
          "output_type": "stream",
          "text": [
            "(736522, 3)\n",
            "736522\n"
          ],
          "name": "stdout"
        }
      ]
    },
    {
      "cell_type": "code",
      "metadata": {
        "id": "bGim6uOpAUDb",
        "colab_type": "code",
        "colab": {
          "base_uri": "https://localhost:8080/",
          "height": 52
        },
        "outputId": "7bc0d7c3-eaeb-42d6-eaaf-7f647ff0ae7f"
      },
      "source": [
        "# Calculate the total sum of rgb values and their means for the barrel pixels\n",
        "sum_rgb_bar = np.sum(barrel_rgb, axis=0) # get sum of all barrel pixels across all images\n",
        "mean_rgb_bar = sum_rgb_bar / bar_len # get mean of all barrel pixels across all images\n",
        "print(sum_rgb_bar)\n",
        "print(mean_rgb_bar)"
      ],
      "execution_count": 45,
      "outputs": [
        {
          "output_type": "stream",
          "text": [
            "[1.2368774e+08 3.3539600e+07 3.9367140e+07]\n",
            "[167.93488857  45.5378115   53.45005309]\n"
          ],
          "name": "stdout"
        }
      ]
    },
    {
      "cell_type": "code",
      "metadata": {
        "id": "2KN1b2ZWjtqD",
        "colab_type": "code",
        "colab": {
          "base_uri": "https://localhost:8080/",
          "height": 69
        },
        "outputId": "3761a1a2-c97e-4836-9f43-3343ae039463"
      },
      "source": [
        "# Calculate the covariance for the \n",
        "b = []\n",
        "for i in range(0, bar_len):\n",
        "    b.append(mean_rgb_bar)\n",
        "b = np.vstack(b)\n",
        "a = barrel_rgb - b\n",
        "aT = np.transpose(a)\n",
        "\n",
        "cov = np.matmul(aT, a)\n",
        "cov = cov / bar_len\n",
        "\n",
        "print(cov)"
      ],
      "execution_count": 46,
      "outputs": [
        {
          "output_type": "stream",
          "text": [
            "[[3399.66130749 1240.34012194 1388.7349037 ]\n",
            " [1240.34012194  889.98422517  892.02913215]\n",
            " [1388.7349037   892.02913215  957.53029659]]\n"
          ],
          "name": "stdout"
        }
      ]
    },
    {
      "cell_type": "code",
      "metadata": {
        "id": "C_yz5TFCt1ii",
        "colab_type": "code",
        "colab": {}
      },
      "source": [
        "# Get all of the variables needed for Bayes calculations\n",
        "inv_cov_bar = LA.inv(cov)\n",
        "inv_cov_nbar = LA.inv(cov_nbar)\n",
        "\n",
        "norm_cov_bar = LA.norm(cov)\n",
        "norm_cov_nbar = LA.norm(cov_nbar)\n",
        "\n",
        "sqrt_norm_cov_bar = np.sqrt(norm_cov_bar)\n",
        "sqrt_norm_cov_nbar = np.sqrt(norm_cov_nbar)\n",
        "\n",
        "bar_cont = 1/(2*math.pi*sqrt_norm_cov_bar)\n",
        "nbar_const = 1/(2*math.pi*sqrt_norm_cov_nbar)\n",
        "\n",
        "px = 1/(900 * 1200)"
      ],
      "execution_count": 0,
      "outputs": []
    },
    {
      "cell_type": "code",
      "metadata": {
        "id": "IlVu_DyNwenm",
        "colab_type": "code",
        "colab": {
          "base_uri": "https://localhost:8080/",
          "height": 287
        },
        "outputId": "c75e7ac0-947f-4b3c-8c1b-182a499431ea"
      },
      "source": [
        "im = Image.open(\"train/2_3.1.png\")\n",
        "img = np.array(im)\n",
        "print(np.shape(img))\n",
        "for i in range (0, 900):\n",
        "    for j in range (0, 1200):\n",
        "        pix = img[i, j, :]\n",
        "        pix_rgb = np.matrix([pix[0], pix[1], pix[2]])\n",
        "\n",
        "        x_mu = np.array(pix_rgb - mean_rgb_bar)\n",
        "        x_muT = np.transpose(x_mu)\n",
        "        calc = np.matmul(x_mu, inv_cov_bar)\n",
        "        calc = -0.5 * np.matmul(calc, x_muT)\n",
        "        gaus_bar = bar_cont * math.exp(calc)\n",
        "\n",
        "        x_mu = np.array(pix_rgb - mean_nbar)\n",
        "        x_muT = np.transpose(x_mu)\n",
        "        calc = np.matmul(x_mu, inv_cov_nbar)\n",
        "        calc = -0.5 * np.matmul(calc, x_muT)\n",
        "        gaus_nbar = nbar_const * math.exp(calc)\n",
        "\n",
        "        Pyx = (bar_len * gaus_bar) / px\n",
        "        Pnyx = (num_nbar_pix * gaus_nbar) / px\n",
        "\n",
        "        PB = Pyx / (Pyx + Pnyx)\n",
        "        PnB = Pnyx / (Pyx + Pnyx)\n",
        "\n",
        "        if (Pyx > Pnyx):\n",
        "            # img[i, j, :] = [np.round(255 * PB), 0, 0]\n",
        "            img[i, j, :] = [255, 0, 0]\n",
        "        else:\n",
        "            img[i, j, :] = [0, 0, 0]\n",
        "disp = Image.fromarray(img, 'RGB')\n",
        "disp.save('my.png')\n",
        "plt.imshow(img)\n",
        "plt.show()"
      ],
      "execution_count": 52,
      "outputs": [
        {
          "output_type": "stream",
          "text": [
            "(900, 1200, 3)\n"
          ],
          "name": "stdout"
        },
        {
          "output_type": "display_data",
          "data": {
            "image/png": "[encoded data removed]",
            "text/plain": [
              "<Figure size 432x288 with 1 Axes>"
            ]
          },
          "metadata": {
            "tags": []
          }
        }
      ]
    },
    {
      "cell_type": "code",
      "metadata": {
        "id": "A6PtGZgo5az7",
        "colab_type": "code",
        "colab": {}
      },
      "source": [
        "for file in sorted(os.listdir('train/')):\n",
        "    # Iterate through all the image files in folder and get their names\n",
        "    l = len(file)\n",
        "    name = file[0:(l-4)]\n",
        "    print(name)\n",
        "    im = Image.open(\"train/\" + name + \".png\")\n",
        "    img = np.array(im)\n",
        "\n",
        "    print(np.shape(img))\n",
        "    for i in range (0, 900):\n",
        "        for j in range (0, 1200):\n",
        "            pix = img[i, j, :]\n",
        "            pix_rgb = np.matrix([pix[0], pix[1], pix[2]])\n",
        "\n",
        "            s1 = np.array(pix_rgb - mean_rgb_bar)\n",
        "            s2 = np.transpose(s1)\n",
        "            s3 = np.matmul(s1, inv_cov_bar)\n",
        "            s4 = np.matmul(s3, s2)\n",
        "            s5 = math.exp(-0.5 * s4)\n",
        "            gaus_bar = bar_cont * s5\n",
        "\n",
        "            s1 = np.array(pix_rgb - mean_nbar)\n",
        "            s2 = np.transpose(s1)\n",
        "            s3 = np.matmul(s1, inv_cov_nbar)\n",
        "            s4 = np.matmul(s3, s2)\n",
        "            s5 = math.exp(-0.5 * s4)\n",
        "            gaus_nbar = nbar_const * s5\n",
        "\n",
        "            Pyx = (bar_len * gaus_bar) / px\n",
        "            Pnyx = (num_nbar_pix * gaus_nbar) / px\n",
        "\n",
        "            if (Pyx > Pnyx):\n",
        "                img[i, j, :] = [255, 0, 0]\n",
        "            else:\n",
        "                img[i, j, :] = [0, 0, 0]\n",
        "    import matplotlib.pyplot as plt\n",
        "    disp = Image.fromarray(img, 'RGB')\n",
        "    disp.save(\"classified_img/\" + name + \".png\")\n",
        "    plt.imshow(img)\n",
        "    plt.show()"
      ],
      "execution_count": 0,
      "outputs": []
    },
    {
      "cell_type": "code",
      "metadata": {
        "id": "ercPwFhhKERB",
        "colab_type": "code",
        "colab": {}
      },
      "source": [
        "import math\n",
        "import matplotlib.pyplot as plt\n",
        "import numpy as np\n",
        "import pandas as pd\n",
        "\n",
        "from skimage.draw import ellipse\n",
        "from skimage.measure import label, regionprops, regionprops_table\n",
        "from skimage.transform import rotate\n",
        "\n",
        "name = '4.8' # easy\n",
        "name = '2_3.1'\n",
        "name = '10.4'\n",
        "name = '4.6'\n",
        "name = '2.6'\n",
        "name = '2.8'\n",
        "name = '14'\n",
        "name = '3.10'\n",
        "name = '3.2'\n",
        "name = '4.3'\n",
        "name = '4.5'\n",
        "name = '5.4'\n",
        "name = '5.9'\n",
        "name = '5.11'\n",
        "name = '6.3'\n",
        "name = '8.3'\n",
        "\n",
        "im = Image.open(\"classified_imgs/\" + name + \".png\")\n",
        "img = np.array(im)\n",
        "\n",
        "ind = np.zeros((900, 1200))\n",
        "\n",
        "for i in range(0, 900):\n",
        "    for j in range(0, 1200):\n",
        "        if img[i][j][0] == 255:\n",
        "            ind[i][j] = 1\n",
        "\n",
        "\n",
        "label_img = label(ind)\n",
        "regions = regionprops(label_img)\n",
        "\n",
        "fig, ax = plt.subplots()\n",
        "ax.imshow(img, cmap=plt.cm.gray)\n",
        "\n",
        "print(regions[0].orientation)\n",
        "print(regions[0].major_axis_length)\n",
        "print(regions[0].minor_axis_length)\n",
        "\n",
        "print(regions[1].orientation)\n",
        "print(regions[1].major_axis_length)\n",
        "print(regions[1].minor_axis_length)\n",
        "\n",
        "print(regions)\n",
        "\n",
        "ind = 0\n",
        "for i in range(0, len(regions)):\n",
        "    major = regions[ind].major_axis_length\n",
        "    minor = regions[ind].minor_axis_length\n",
        "    if regions[ind].bbox_area < 1250 or minor < 5 or (regions[ind].filled_area / regions[ind].bbox_area) < 0.5:\n",
        "    # if regions[ind].bbox_area < 1250:\n",
        "        del regions[ind]\n",
        "    else:\n",
        "        if major/minor < 1 or major/minor > 3:\n",
        "            del regions[ind]\n",
        "        else:\n",
        "            ind = ind + 1\n",
        "        # ind = ind + 1\n",
        "\n",
        "size_list = []\n",
        "for props in regions:\n",
        "    size_list.append(props.bbox_area)\n",
        "\n",
        "ind = 0\n",
        "max_area = max(size_list)\n",
        "for i in range(0, len(regions)):\n",
        "    area = regions[ind].bbox_area\n",
        "    area_rat = area / max_area\n",
        "    if area_rat < 0.3:\n",
        "        del regions[ind]\n",
        "    else:\n",
        "        ind = ind + 1\n",
        "\n",
        "for props in regions:\n",
        "    y0, x0 = props.centroid\n",
        "    orientation = props.orientation\n",
        "    x1 = x0 + math.cos(orientation) * 0.5 * props.minor_axis_length\n",
        "    y1 = y0 - math.sin(orientation) * 0.5 * props.minor_axis_length\n",
        "    x2 = x0 - math.sin(orientation) * 0.5 * props.major_axis_length\n",
        "    y2 = y0 - math.cos(orientation) * 0.5 * props.major_axis_length\n",
        "\n",
        "    ax.plot((x0, x1), (y0, y1), '-r', linewidth=2.5)\n",
        "    ax.plot((x0, x2), (y0, y2), '-r', linewidth=2.5)\n",
        "    ax.plot(x0, y0, '.g', markersize=15)\n",
        "\n",
        "    minr, minc, maxr, maxc = props.bbox\n",
        "    bx = (minc, maxc, maxc, minc, minc)\n",
        "    by = (minr, minr, maxr, maxr, minr)\n",
        "    ax.plot(bx, by, '-b', linewidth=2.5)\n",
        "\n",
        "    print(props.bbox_area)\n",
        "    print(props.major_axis_length / props.minor_axis_length)\n",
        "    print(props.filled_area / props.bbox_area)\n",
        "    print(props.filled_area / props.area)\n",
        "\n",
        "ax.axis((0, 1200, 900, 0))\n",
        "plt.show()"
      ],
      "execution_count": 0,
      "outputs": []
    }
  ]
}