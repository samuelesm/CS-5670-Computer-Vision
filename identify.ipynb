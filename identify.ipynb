{
  "nbformat": 4,
  "nbformat_minor": 0,
  "metadata": {
    "colab": {
      "name": "identify.ipynb",
      "provenance": []
    },
    "kernelspec": {
      "name": "python3",
      "display_name": "Python 3"
    }
  },
  "cells": [
    {
      "cell_type": "code",
      "metadata": {
        "id": "rB4YgDryPLfn",
        "colab_type": "code",
        "colab": {
          "base_uri": "https://localhost:8080/",
          "height": 141
        },
        "outputId": "7c8d886b-5df1-4da5-bbbf-4dfc91398969"
      },
      "source": [
        "from google.colab import drive\n",
        "drive.mount('/gdrive')\n",
        "%cd '/gdrive/My Drive/Colab Notebooks/'"
      ],
      "execution_count": 1,
      "outputs": [
        {
          "output_type": "stream",
          "text": [
            "Go to this URL in a browser: https://accounts.google.com/o/oauth2/auth?client_id=947318989803-6bn6qk8qdgf4n4g3pfee6491hc0brc4i.apps.googleusercontent.com&redirect_uri=urn%3aietf%3awg%3aoauth%3a2.0%3aoob&response_type=code&scope=email%20https%3a%2f%2fwww.googleapis.com%2fauth%2fdocs.test%20https%3a%2f%2fwww.googleapis.com%2fauth%2fdrive%20https%3a%2f%2fwww.googleapis.com%2fauth%2fdrive.photos.readonly%20https%3a%2f%2fwww.googleapis.com%2fauth%2fpeopleapi.readonly\n",
            "\n",
            "Enter your authorization code:\n",
            "··········\n",
            "Mounted at /gdrive\n",
            "/gdrive/My Drive/Colab Notebooks\n"
          ],
          "name": "stdout"
        }
      ]
    },
    {
      "cell_type": "code",
      "metadata": {
        "id": "LnAwbHBSPSoP",
        "colab_type": "code",
        "colab": {}
      },
      "source": [
        "import os\n",
        "import numpy as np\n",
        "import matplotlib.image as mpimg\n",
        "import pandas as pd\n",
        "import csv\n",
        "import math\n",
        "import matplotlib.pyplot as plt\n",
        "\n",
        "from PIL import Image\n",
        "from skimage.draw import ellipse\n",
        "from skimage.measure import label, regionprops, regionprops_table\n",
        "from skimage.transform import rotate"
      ],
      "execution_count": 0,
      "outputs": []
    },
    {
      "cell_type": "code",
      "metadata": {
        "id": "DiaPGUFRPiRL",
        "colab_type": "code",
        "colab": {
          "base_uri": "https://localhost:8080/",
          "height": 877
        },
        "outputId": "17b67aad-2289-48ce-bf06-3039e7edd516"
      },
      "source": [
        "centroid_x = []\n",
        "centroid_y = []\n",
        "dist = []\n",
        "outputs = []\n",
        "\n",
        "for names in sorted(os.listdir('classified_img/')):\n",
        "    l = len(names)\n",
        "    names = names[0:(l-4)]\n",
        "\n",
        "    print(names)\n",
        "    \n",
        "    im = Image.open(\"classified_img/\" + names + \".png\")\n",
        "    img = np.array(im)\n",
        "\n",
        "    ind = np.zeros((900, 1200))\n",
        "\n",
        "    for i in range(0, 900):\n",
        "        for j in range(0, 1200):\n",
        "            if img[i][j][0] == 255:\n",
        "                ind[i][j] = 1\n",
        "\n",
        "\n",
        "    label_img = label(ind)\n",
        "    regions = regionprops(label_img)\n",
        "\n",
        "    fig, ax = plt.subplots()\n",
        "    ax.imshow(img, cmap=plt.cm.gray)\n",
        "\n",
        "    ind = 0\n",
        "    for i in range(0, len(regions)):\n",
        "        major = regions[ind].major_axis_length\n",
        "        minor = regions[ind].minor_axis_length\n",
        "        if regions[ind].bbox_area < 1250 or minor < 5 or (regions[ind].filled_area / regions[ind].bbox_area) < 0.5:\n",
        "            del regions[ind]\n",
        "        else:\n",
        "            if major/minor < 1 or major/minor > 3:\n",
        "                del regions[ind]\n",
        "            else:\n",
        "                ind = ind + 1\n",
        " \n",
        "    if len(regions) != 0:\n",
        "        size_list = []\n",
        "        for props in regions:\n",
        "            size_list.append(props.bbox_area)\n",
        "\n",
        "        ind = 0\n",
        "        max_area = max(size_list)\n",
        "        for i in range(0, len(regions)):\n",
        "            area = regions[ind].bbox_area\n",
        "            area_rat = area / max_area\n",
        "            if area_rat < 0.3:\n",
        "                del regions[ind]\n",
        "            else:\n",
        "                ind = ind + 1\n",
        "\n",
        "        for props in regions:\n",
        "            y0, x0 = props.centroid\n",
        "            orientation = props.orientation\n",
        "\n",
        "            centroid_x.append(x0)\n",
        "            centroid_y.append(y0)\n",
        "\n",
        "            width = 2 * props.minor_axis_length\n",
        "            \n",
        "\n",
        "            x1 = x0 + math.cos(orientation) * 0.5 * props.minor_axis_length\n",
        "            y1 = y0 - math.sin(orientation) * 0.5 * props.minor_axis_length\n",
        "            x2 = x0 - math.sin(orientation) * 0.5 * props.major_axis_length\n",
        "            y2 = y0 - math.cos(orientation) * 0.5 * props.major_axis_length\n",
        "\n",
        "            ax.plot((x0, x1), (y0, y1), '-r', linewidth=2.5)\n",
        "            ax.plot((x0, x2), (y0, y2), '-r', linewidth=2.5)\n",
        "            ax.plot(x0, y0, '.g', markersize=15)\n",
        "\n",
        "            minr, minc, maxr, maxc = props.bbox\n",
        "            bx = (minc, maxc, maxc, minc, minc)\n",
        "            by = (minr, minr, maxr, maxr, minr)\n",
        "            ax.plot(bx, by, '-b', linewidth=2.5)\n",
        "\n",
        "            chars = \"ImageNo = [\" + names + \"], CentroidX = \" + str(x0) + \", CentroidY = \" + str(y0)\n",
        "            outputs.append(chars)\n",
        "            print(chars)\n",
        "\n",
        "    ax.axis((0, 1200, 900, 0))\n",
        "    plt.show()"
      ],
      "execution_count": 34,
      "outputs": [
        {
          "output_type": "stream",
          "text": [
            "2.2\n"
          ],
          "name": "stdout"
        },
        {
          "output_type": "display_data",
          "data": {
            "image/png": "[encoded data removed]",
            "text/plain": [
              "<Figure size 432x288 with 1 Axes>"
            ]
          },
          "metadata": {
            "tags": []
          }
        },
        {
          "output_type": "stream",
          "text": [
            "2_3.1\n",
            "ImageNo = [2_3.1], CentroidX = 997.964964700283, CentroidY = 380.76654591607394\n",
            "ImageNo = [2_3.1], CentroidX = 319.0662090218129, CentroidY = 509.4428921314981\n"
          ],
          "name": "stdout"
        },
        {
          "output_type": "display_data",
          "data": {
            "image/png": "[encoded data removed]",
            "text/plain": [
              "<Figure size 432x288 with 1 Axes>"
            ]
          },
          "metadata": {
            "tags": []
          }
        },
        {
          "output_type": "stream",
          "text": [
            "5.1\n",
            "ImageNo = [5.1], CentroidX = 611.8709034764419, CentroidY = 438.92738320549853\n"
          ],
          "name": "stdout"
        },
        {
          "output_type": "display_data",
          "data": {
            "image/png": "[encoded data removed]",
            "text/plain": [
              "<Figure size 432x288 with 1 Axes>"
            ]
          },
          "metadata": {
            "tags": []
          }
        }
      ]
    }
  ]
}